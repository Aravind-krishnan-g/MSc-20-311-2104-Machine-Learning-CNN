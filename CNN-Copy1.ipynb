{
 "cells": [
  {
   "cell_type": "code",
   "execution_count": null,
   "metadata": {},
   "outputs": [],
   "source": [
    "# pip install Tensorflow pydot graphviz"
   ]
  },
  {
   "cell_type": "code",
   "execution_count": 28,
   "metadata": {},
   "outputs": [],
   "source": [
    "# pip install pydotplus"
   ]
  },
  {
   "cell_type": "code",
   "execution_count": 9,
   "metadata": {},
   "outputs": [],
   "source": [
    "import pydot\n",
    "import graphviz"
   ]
  },
  {
   "cell_type": "code",
   "execution_count": 1,
   "metadata": {
    "scrolled": true
   },
   "outputs": [],
   "source": [
    "import tensorflow as tf\n",
    "from tensorflow.keras.models import Sequential\n",
    "from tensorflow.keras.layers import Dense, Dropout, Activation, Flatten, Conv2D, MaxPooling2D \n",
    "from tensorflow.keras.utils import to_categorical\n",
    "from tensorflow.keras.layers import LeakyReLU"
   ]
  },
  {
   "cell_type": "code",
   "execution_count": 2,
   "metadata": {},
   "outputs": [],
   "source": [
    "(x_train, y_train), (x_test, y_test) = tf.keras.datasets.cifar10.load_data()\n",
    "\n",
    "x_train = (x_train/255) - 0.5\n",
    "x_test  = (x_test/255) - 0.5\n",
    "y_train = to_categorical(y_train,10)\n",
    "y_test  = to_categorical(y_test,10)"
   ]
  },
  {
   "cell_type": "code",
   "execution_count": 8,
   "metadata": {},
   "outputs": [
    {
     "name": "stdout",
     "output_type": "stream",
     "text": [
      "Epoch 1/10\n",
      "1563/1563 [==============================] - 36s 22ms/step - loss: 1.6985 - accuracy: 0.3674 - val_loss: 1.1285 - val_accuracy: 0.5942\n",
      "Epoch 2/10\n",
      "1563/1563 [==============================] - 37s 23ms/step - loss: 1.1513 - accuracy: 0.5844 - val_loss: 0.9577 - val_accuracy: 0.6581\n",
      "Epoch 3/10\n",
      "1563/1563 [==============================] - 37s 24ms/step - loss: 0.9878 - accuracy: 0.6509 - val_loss: 0.9006 - val_accuracy: 0.6856\n",
      "Epoch 4/10\n",
      "1563/1563 [==============================] - 36s 23ms/step - loss: 0.8981 - accuracy: 0.6824 - val_loss: 0.8402 - val_accuracy: 0.7026\n",
      "Epoch 5/10\n",
      "1563/1563 [==============================] - 36s 23ms/step - loss: 0.8405 - accuracy: 0.7017 - val_loss: 0.8621 - val_accuracy: 0.6986\n",
      "Epoch 6/10\n",
      "1563/1563 [==============================] - 37s 23ms/step - loss: 0.7976 - accuracy: 0.7140 - val_loss: 0.7633 - val_accuracy: 0.7320\n",
      "Epoch 7/10\n",
      "1563/1563 [==============================] - 36s 23ms/step - loss: 0.7666 - accuracy: 0.7316 - val_loss: 0.8158 - val_accuracy: 0.7196\n",
      "Epoch 8/10\n",
      "1563/1563 [==============================] - 36s 23ms/step - loss: 0.7467 - accuracy: 0.7356 - val_loss: 0.7912 - val_accuracy: 0.7250\n",
      "Epoch 9/10\n",
      "1563/1563 [==============================] - 35s 22ms/step - loss: 0.7129 - accuracy: 0.7483 - val_loss: 0.7948 - val_accuracy: 0.7287\n",
      "Epoch 10/10\n",
      "1563/1563 [==============================] - 37s 24ms/step - loss: 0.6886 - accuracy: 0.7585 - val_loss: 0.7390 - val_accuracy: 0.7500\n"
     ]
    },
    {
     "data": {
      "text/plain": [
       "<tensorflow.python.keras.callbacks.History at 0x17dba73abb0>"
      ]
     },
     "execution_count": 8,
     "metadata": {},
     "output_type": "execute_result"
    }
   ],
   "source": [
    "classifier = Sequential()\n",
    "\n",
    "classifier.add(Conv2D(16, (3, 3), padding = 'same', activation = 'relu', input_shape = (32, 32, 3)))\n",
    "classifier.add(MaxPooling2D(pool_size = (2,2), padding = 'valid'))\n",
    "\n",
    "\n",
    "classifier.add(Conv2D(32, (3, 3), padding = 'same', activation = 'relu'))\n",
    "classifier.add(MaxPooling2D(pool_size = (2,2), padding = 'valid'))\n",
    "\n",
    "classifier.add(Dropout(0.25))\n",
    "classifier.add(LeakyReLU(0.2))\n",
    "\n",
    "classifier.add(Conv2D(64, (3, 3), padding = 'same', activation = 'relu'))\n",
    "classifier.add(MaxPooling2D(pool_size = (2,2), padding = 'valid'))\n",
    "\n",
    "classifier.add(Conv2D(128, (3, 3), padding = 'same', activation = 'relu'))\n",
    "classifier.add(MaxPooling2D(pool_size = (2,2), padding = 'valid'))\n",
    "\n",
    "classifier.add(Dropout(0.25))\n",
    "classifier.add(LeakyReLU(0.2))\n",
    "\n",
    "classifier.add(Flatten())\n",
    "\n",
    "classifier.add(Dense(256))\n",
    "classifier.add(Dense(10, activation='sigmoid'))\n",
    "\n",
    "\n",
    "classifier.compile(\n",
    "  'adam',\n",
    "  loss='categorical_crossentropy',\n",
    "  metrics=['accuracy'],\n",
    ")\n",
    "\n",
    "classifier.fit(\n",
    "  x_train,\n",
    "  y_train,\n",
    "  epochs=10,\n",
    "  validation_data=(x_test,  y_test)\n",
    ")"
   ]
  },
  {
   "cell_type": "code",
   "execution_count": 5,
   "metadata": {},
   "outputs": [
    {
     "name": "stdout",
     "output_type": "stream",
     "text": [
      "Model: \"sequential\"\n",
      "_________________________________________________________________\n",
      "Layer (type)                 Output Shape              Param #   \n",
      "=================================================================\n",
      "conv2d (Conv2D)              (None, 32, 32, 16)        448       \n",
      "_________________________________________________________________\n",
      "max_pooling2d (MaxPooling2D) (None, 16, 16, 16)        0         \n",
      "_________________________________________________________________\n",
      "conv2d_1 (Conv2D)            (None, 16, 16, 32)        4640      \n",
      "_________________________________________________________________\n",
      "max_pooling2d_1 (MaxPooling2 (None, 8, 8, 32)          0         \n",
      "_________________________________________________________________\n",
      "dropout (Dropout)            (None, 8, 8, 32)          0         \n",
      "_________________________________________________________________\n",
      "leaky_re_lu (LeakyReLU)      (None, 8, 8, 32)          0         \n",
      "_________________________________________________________________\n",
      "conv2d_2 (Conv2D)            (None, 8, 8, 64)          18496     \n",
      "_________________________________________________________________\n",
      "max_pooling2d_2 (MaxPooling2 (None, 4, 4, 64)          0         \n",
      "_________________________________________________________________\n",
      "conv2d_3 (Conv2D)            (None, 4, 4, 128)         73856     \n",
      "_________________________________________________________________\n",
      "max_pooling2d_3 (MaxPooling2 (None, 2, 2, 128)         0         \n",
      "_________________________________________________________________\n",
      "dropout_1 (Dropout)          (None, 2, 2, 128)         0         \n",
      "_________________________________________________________________\n",
      "leaky_re_lu_1 (LeakyReLU)    (None, 2, 2, 128)         0         \n",
      "_________________________________________________________________\n",
      "flatten (Flatten)            (None, 512)               0         \n",
      "_________________________________________________________________\n",
      "dense (Dense)                (None, 256)               131328    \n",
      "_________________________________________________________________\n",
      "dense_1 (Dense)              (None, 10)                2570      \n",
      "=================================================================\n",
      "Total params: 231,338\n",
      "Trainable params: 231,338\n",
      "Non-trainable params: 0\n",
      "_________________________________________________________________\n"
     ]
    }
   ],
   "source": [
    "classifier.summary()"
   ]
  }
 ],
 "metadata": {
  "kernelspec": {
   "display_name": "Python 3",
   "language": "python",
   "name": "python3"
  },
  "language_info": {
   "codemirror_mode": {
    "name": "ipython",
    "version": 3
   },
   "file_extension": ".py",
   "mimetype": "text/x-python",
   "name": "python",
   "nbconvert_exporter": "python",
   "pygments_lexer": "ipython3",
   "version": "3.8.3"
  }
 },
 "nbformat": 4,
 "nbformat_minor": 4
}
